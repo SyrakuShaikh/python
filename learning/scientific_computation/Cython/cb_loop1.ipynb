{
 "cells": [
  {
   "cell_type": "code",
   "execution_count": 1,
   "metadata": {
    "ExecuteTime": {
     "end_time": "2017-06-13T08:15:44.789963Z",
     "start_time": "2017-06-13T08:15:44.458226Z"
    },
    "collapsed": true
   },
   "outputs": [],
   "source": [
    "%load_ext Cython"
   ]
  },
  {
   "cell_type": "code",
   "execution_count": 2,
   "metadata": {
    "ExecuteTime": {
     "end_time": "2017-06-13T08:16:54.202085Z",
     "start_time": "2017-06-13T08:16:54.198248Z"
    },
    "collapsed": true
   },
   "outputs": [],
   "source": [
    "def smooth_py(a):\n",
    "    n = len(a) - 1\n",
    "    for i in range(1, n):\n",
    "        a[i] = (a[i-1] + a[i] + a[i+1]) / 3.0\n",
    "    return a"
   ]
  },
  {
   "cell_type": "code",
   "execution_count": 3,
   "metadata": {
    "ExecuteTime": {
     "end_time": "2017-06-13T08:19:39.438041Z",
     "start_time": "2017-06-13T08:19:39.133085Z"
    },
    "collapsed": true
   },
   "outputs": [],
   "source": [
    "%%cython\n",
    "def smooth_c1(a):\n",
    "    cdef unsigned int i, n=len(a) - 1\n",
    "    for i in range(1, n):\n",
    "        a[i] = (a[i-1] + a[i] + a[i+1]) / 3.0\n",
    "    return a"
   ]
  },
  {
   "cell_type": "code",
   "execution_count": 13,
   "metadata": {
    "ExecuteTime": {
     "end_time": "2017-06-13T08:27:32.574248Z",
     "start_time": "2017-06-13T08:27:32.368984Z"
    },
    "collapsed": true
   },
   "outputs": [],
   "source": [
    "%%cython\n",
    "cdef list smooth_c2(list a):\n",
    "    cdef unsigned int i, n=len(a) - 1\n",
    "    for i in range(1, n):\n",
    "        a[i] = (a[i-1] + a[i] + a[i+1]) / 3.0\n",
    "    return a"
   ]
  },
  {
   "cell_type": "code",
   "execution_count": 4,
   "metadata": {
    "ExecuteTime": {
     "end_time": "2017-06-13T08:20:15.381526Z",
     "start_time": "2017-06-13T08:20:15.378217Z"
    },
    "collapsed": true
   },
   "outputs": [],
   "source": [
    "from random import sample"
   ]
  },
  {
   "cell_type": "code",
   "execution_count": 24,
   "metadata": {
    "ExecuteTime": {
     "end_time": "2017-06-13T08:28:33.452902Z",
     "start_time": "2017-06-13T08:28:33.447812Z"
    },
    "collapsed": true
   },
   "outputs": [],
   "source": [
    "a = sample(range(1000), k=1000)"
   ]
  },
  {
   "cell_type": "code",
   "execution_count": 25,
   "metadata": {
    "ExecuteTime": {
     "end_time": "2017-06-13T08:28:35.461793Z",
     "start_time": "2017-06-13T08:28:35.447824Z"
    }
   },
   "outputs": [
    {
     "name": "stdout",
     "output_type": "stream",
     "text": [
      "3 loops, best of 5: 563 µs per loop\n"
     ]
    }
   ],
   "source": [
    "%timeit -n3 -r5 smooth_py(a[:])"
   ]
  },
  {
   "cell_type": "code",
   "execution_count": 26,
   "metadata": {
    "ExecuteTime": {
     "end_time": "2017-06-13T08:28:36.032194Z",
     "start_time": "2017-06-13T08:28:36.024932Z"
    }
   },
   "outputs": [
    {
     "name": "stdout",
     "output_type": "stream",
     "text": [
      "3 loops, best of 5: 96.2 µs per loop\n"
     ]
    }
   ],
   "source": [
    "%timeit -n3 -r5 smooth_c1(a[:])"
   ]
  },
  {
   "cell_type": "code",
   "execution_count": 27,
   "metadata": {
    "ExecuteTime": {
     "end_time": "2017-06-13T08:28:36.788657Z",
     "start_time": "2017-06-13T08:28:36.781461Z"
    }
   },
   "outputs": [
    {
     "name": "stdout",
     "output_type": "stream",
     "text": [
      "3 loops, best of 5: 97.7 µs per loop\n"
     ]
    }
   ],
   "source": [
    "%timeit -n3 -r5 smooth_c2(a[:])"
   ]
  }
 ],
 "metadata": {
  "kernelspec": {
   "display_name": "Python [conda root]",
   "language": "python",
   "name": "conda-root-py"
  },
  "language_info": {
   "codemirror_mode": {
    "name": "ipython",
    "version": 3
   },
   "file_extension": ".py",
   "mimetype": "text/x-python",
   "name": "python",
   "nbconvert_exporter": "python",
   "pygments_lexer": "ipython3",
   "version": "3.5.3"
  },
  "latex_envs": {
   "LaTeX_envs_menu_present": true,
   "autocomplete": true,
   "bibliofile": "biblio.bib",
   "cite_by": "apalike",
   "current_citInitial": 1,
   "eqLabelWithNumbers": true,
   "eqNumInitial": 1,
   "hotkeys": {
    "equation": "Ctrl-E",
    "itemize": "Ctrl-I"
   },
   "labels_anchors": false,
   "latex_user_defs": false,
   "report_style_numbering": false,
   "user_envs_cfg": false
  },
  "toc": {
   "colors": {
    "hover_highlight": "#DAA520",
    "navigate_num": "#000000",
    "navigate_text": "#333333",
    "running_highlight": "#FF0000",
    "selected_highlight": "#FFD700",
    "sidebar_border": "#EEEEEE",
    "wrapper_background": "#FFFFFF"
   },
   "moveMenuLeft": true,
   "nav_menu": {
    "height": "12px",
    "width": "252px"
   },
   "navigate_menu": true,
   "number_sections": true,
   "sideBar": true,
   "threshold": 4,
   "toc_cell": false,
   "toc_section_display": "block",
   "toc_window_display": false,
   "widenNotebook": false
  }
 },
 "nbformat": 4,
 "nbformat_minor": 2
}
