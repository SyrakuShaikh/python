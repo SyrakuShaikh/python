{
 "cells": [
  {
   "cell_type": "code",
   "execution_count": 1,
   "metadata": {
    "ExecuteTime": {
     "end_time": "2017-06-14T07:00:47.050905Z",
     "start_time": "2017-06-14T07:00:46.722708Z"
    },
    "collapsed": true
   },
   "outputs": [],
   "source": [
    "%load_ext Cython"
   ]
  },
  {
   "cell_type": "code",
   "execution_count": 2,
   "metadata": {
    "ExecuteTime": {
     "end_time": "2017-06-14T07:02:39.119318Z",
     "start_time": "2017-06-14T07:02:39.111996Z"
    },
    "collapsed": true
   },
   "outputs": [],
   "source": [
    "# Pure Python version\n",
    "class Particle(object):\n",
    "    \"\"\"Simple Particle type.\"\"\"\n",
    "    def __init__(self, m, x, v):\n",
    "        self.mass = m\n",
    "        self.position = x\n",
    "        self.velocity = v\n",
    "    def get_momentum(self):\n",
    "        return self.mass * self.velocity"
   ]
  },
  {
   "cell_type": "code",
   "execution_count": 3,
   "metadata": {
    "ExecuteTime": {
     "end_time": "2017-06-14T07:05:16.645924Z",
     "start_time": "2017-06-14T07:05:16.311542Z"
    },
    "collapsed": true
   },
   "outputs": [],
   "source": [
    "%%cython\n",
    "cdef class cParticle(object):\n",
    "    \"\"\"Simple Particle type.\"\"\"\n",
    "    cdef double mass, position, velocity\n",
    "    def __init__(self, m, x, v):\n",
    "        self.mass = m\n",
    "        self.position = x\n",
    "        self.velocity = v\n",
    "    def get_momentum(self):\n",
    "        return self.mass * self.velocity"
   ]
  },
  {
   "cell_type": "code",
   "execution_count": 4,
   "metadata": {
    "ExecuteTime": {
     "end_time": "2017-06-14T07:05:35.673280Z",
     "start_time": "2017-06-14T07:05:35.668971Z"
    },
    "collapsed": true
   },
   "outputs": [],
   "source": [
    "Particle?"
   ]
  },
  {
   "cell_type": "code",
   "execution_count": 5,
   "metadata": {
    "ExecuteTime": {
     "end_time": "2017-06-14T07:05:59.568431Z",
     "start_time": "2017-06-14T07:05:59.560096Z"
    },
    "collapsed": true
   },
   "outputs": [],
   "source": [
    "cParticle?"
   ]
  },
  {
   "cell_type": "code",
   "execution_count": 6,
   "metadata": {
    "ExecuteTime": {
     "end_time": "2017-06-14T07:10:06.039580Z",
     "start_time": "2017-06-14T07:10:06.037102Z"
    },
    "collapsed": true
   },
   "outputs": [],
   "source": [
    "py_particle = Particle(1.0, 2.0, 3.0)"
   ]
  },
  {
   "cell_type": "code",
   "execution_count": 7,
   "metadata": {
    "ExecuteTime": {
     "end_time": "2017-06-14T07:10:21.416326Z",
     "start_time": "2017-06-14T07:10:21.411616Z"
    },
    "collapsed": true
   },
   "outputs": [],
   "source": [
    "cy_particle = cParticle(1.0, 2.0, 3.0)"
   ]
  },
  {
   "cell_type": "code",
   "execution_count": 8,
   "metadata": {
    "ExecuteTime": {
     "end_time": "2017-06-14T07:10:37.983173Z",
     "start_time": "2017-06-14T07:10:37.974267Z"
    }
   },
   "outputs": [
    {
     "data": {
      "text/plain": [
       "3.0"
      ]
     },
     "execution_count": 8,
     "metadata": {},
     "output_type": "execute_result"
    }
   ],
   "source": [
    "py_particle.get_momentum()"
   ]
  },
  {
   "cell_type": "code",
   "execution_count": 9,
   "metadata": {
    "ExecuteTime": {
     "end_time": "2017-06-14T07:10:44.981171Z",
     "start_time": "2017-06-14T07:10:44.976713Z"
    }
   },
   "outputs": [
    {
     "data": {
      "text/plain": [
       "3.0"
      ]
     },
     "execution_count": 9,
     "metadata": {},
     "output_type": "execute_result"
    }
   ],
   "source": [
    "cy_particle.get_momentum()"
   ]
  },
  {
   "cell_type": "code",
   "execution_count": 10,
   "metadata": {
    "ExecuteTime": {
     "end_time": "2017-06-14T07:10:57.806187Z",
     "start_time": "2017-06-14T07:10:57.802928Z"
    }
   },
   "outputs": [
    {
     "data": {
      "text/plain": [
       "1.0"
      ]
     },
     "execution_count": 10,
     "metadata": {},
     "output_type": "execute_result"
    }
   ],
   "source": [
    "py_particle.mass"
   ]
  },
  {
   "cell_type": "code",
   "execution_count": 11,
   "metadata": {
    "ExecuteTime": {
     "end_time": "2017-06-14T07:11:04.322863Z",
     "start_time": "2017-06-14T07:11:04.305330Z"
    }
   },
   "outputs": [
    {
     "ename": "AttributeError",
     "evalue": "'_cython_magic_4bf2e919ad94f6d2445c923510fe4893.cPa' object has no attribute 'mass'",
     "output_type": "error",
     "traceback": [
      "\u001b[0;31m---------------------------------------------------------------------------\u001b[0m",
      "\u001b[0;31mAttributeError\u001b[0m                            Traceback (most recent call last)",
      "\u001b[0;32m<ipython-input-11-a9e7785817af>\u001b[0m in \u001b[0;36m<module>\u001b[0;34m()\u001b[0m\n\u001b[0;32m----> 1\u001b[0;31m \u001b[0mcy_particle\u001b[0m\u001b[0;34m.\u001b[0m\u001b[0mmass\u001b[0m\u001b[0;34m\u001b[0m\u001b[0m\n\u001b[0m",
      "\u001b[0;31mAttributeError\u001b[0m: '_cython_magic_4bf2e919ad94f6d2445c923510fe4893.cPa' object has no attribute 'mass'"
     ]
    }
   ],
   "source": [
    "cy_particle.mass"
   ]
  },
  {
   "cell_type": "code",
   "execution_count": 12,
   "metadata": {
    "ExecuteTime": {
     "end_time": "2017-06-14T07:11:18.997044Z",
     "start_time": "2017-06-14T07:11:18.994223Z"
    },
    "collapsed": true
   },
   "outputs": [],
   "source": [
    "py_particle.charge = 1"
   ]
  },
  {
   "cell_type": "code",
   "execution_count": 14,
   "metadata": {
    "ExecuteTime": {
     "end_time": "2017-06-14T07:11:34.862284Z",
     "start_time": "2017-06-14T07:11:34.855731Z"
    }
   },
   "outputs": [
    {
     "data": {
      "text/plain": [
       "{'charge': 1, 'mass': 1.0, 'position': 2.0, 'velocity': 3.0}"
      ]
     },
     "execution_count": 14,
     "metadata": {},
     "output_type": "execute_result"
    }
   ],
   "source": [
    "py_particle.__dict__"
   ]
  },
  {
   "cell_type": "code",
   "execution_count": 15,
   "metadata": {
    "ExecuteTime": {
     "end_time": "2017-06-14T07:11:43.457833Z",
     "start_time": "2017-06-14T07:11:43.449885Z"
    }
   },
   "outputs": [
    {
     "ename": "AttributeError",
     "evalue": "'_cython_magic_4bf2e919ad94f6d2445c923510fe4893.cParticle' object has no attribute 'charge'",
     "output_type": "error",
     "traceback": [
      "\u001b[0;31m---------------------------------------------------------------------------\u001b[0m",
      "\u001b[0;31mAttributeError\u001b[0m                            Traceback (most recent call last)",
      "\u001b[0;32m<ipython-input-15-2be780edcd30>\u001b[0m in \u001b[0;36m<module>\u001b[0;34m()\u001b[0m\n\u001b[0;32m----> 1\u001b[0;31m \u001b[0mcy_particle\u001b[0m\u001b[0;34m.\u001b[0m\u001b[0mcharge\u001b[0m \u001b[0;34m=\u001b[0m \u001b[0;36m1\u001b[0m\u001b[0;34m\u001b[0m\u001b[0m\n\u001b[0m",
      "\u001b[0;31mAttributeError\u001b[0m: '_cython_magic_4bf2e919ad94f6d2445c923510fe4893.cParticle' object has no attribute 'charge'"
     ]
    }
   ],
   "source": [
    "cy_particle.charge = 1"
   ]
  }
 ],
 "metadata": {
  "kernelspec": {
   "display_name": "Python [conda root]",
   "language": "python",
   "name": "conda-root-py"
  },
  "language_info": {
   "codemirror_mode": {
    "name": "ipython",
    "version": 3
   },
   "file_extension": ".py",
   "mimetype": "text/x-python",
   "name": "python",
   "nbconvert_exporter": "python",
   "pygments_lexer": "ipython3",
   "version": "3.5.3"
  },
  "latex_envs": {
   "LaTeX_envs_menu_present": true,
   "autocomplete": true,
   "bibliofile": "biblio.bib",
   "cite_by": "apalike",
   "current_citInitial": 1,
   "eqLabelWithNumbers": true,
   "eqNumInitial": 1,
   "hotkeys": {
    "equation": "Ctrl-E",
    "itemize": "Ctrl-I"
   },
   "labels_anchors": false,
   "latex_user_defs": false,
   "report_style_numbering": false,
   "user_envs_cfg": false
  },
  "toc": {
   "colors": {
    "hover_highlight": "#DAA520",
    "navigate_num": "#000000",
    "navigate_text": "#333333",
    "running_highlight": "#FF0000",
    "selected_highlight": "#FFD700",
    "sidebar_border": "#EEEEEE",
    "wrapper_background": "#FFFFFF"
   },
   "moveMenuLeft": true,
   "nav_menu": {
    "height": "12px",
    "width": "252px"
   },
   "navigate_menu": true,
   "number_sections": true,
   "sideBar": true,
   "threshold": 4,
   "toc_cell": false,
   "toc_section_display": "block",
   "toc_window_display": false,
   "widenNotebook": false
  }
 },
 "nbformat": 4,
 "nbformat_minor": 2
}
