{
 "cells": [
  {
   "cell_type": "code",
   "execution_count": 1,
   "metadata": {
    "ExecuteTime": {
     "end_time": "2017-06-15T16:03:05.419253Z",
     "start_time": "2017-06-15T16:03:05.080170Z"
    },
    "collapsed": true
   },
   "outputs": [],
   "source": [
    "%load_ext Cython"
   ]
  },
  {
   "cell_type": "code",
   "execution_count": 4,
   "metadata": {
    "ExecuteTime": {
     "end_time": "2017-06-15T16:04:33.418597Z",
     "start_time": "2017-06-15T16:04:33.413768Z"
    }
   },
   "outputs": [],
   "source": [
    "%%cython\n",
    "def summer1(double[:] mv):\n",
    "    \"\"\"Sums its argument's contents.\"\"\"\n",
    "    cdef double d, ss=0.0\n",
    "    for d in mv:\n",
    "        ss += d\n",
    "    return ss"
   ]
  },
  {
   "cell_type": "code",
   "execution_count": 5,
   "metadata": {
    "ExecuteTime": {
     "end_time": "2017-06-15T16:05:09.918281Z",
     "start_time": "2017-06-15T16:05:09.770403Z"
    },
    "collapsed": true
   },
   "outputs": [],
   "source": [
    "import numpy as np\n",
    "\n",
    "arr = np.ones((10**6,), dtype=np.double)"
   ]
  },
  {
   "cell_type": "code",
   "execution_count": 7,
   "metadata": {
    "ExecuteTime": {
     "end_time": "2017-06-15T16:05:44.868113Z",
     "start_time": "2017-06-15T16:05:42.847581Z"
    }
   },
   "outputs": [
    {
     "name": "stdout",
     "output_type": "stream",
     "text": [
      "3 loops, best of 3: 199 ms per loop\n"
     ]
    }
   ],
   "source": [
    "%timeit -n3 -r3 summer1(arr)"
   ]
  },
  {
   "cell_type": "code",
   "execution_count": 9,
   "metadata": {
    "ExecuteTime": {
     "end_time": "2017-06-15T16:06:46.663302Z",
     "start_time": "2017-06-15T16:06:46.550399Z"
    },
    "collapsed": true
   },
   "outputs": [],
   "source": [
    "from array import array\n",
    "\n",
    "ar = array('d', [1]*10**6)"
   ]
  },
  {
   "cell_type": "code",
   "execution_count": 10,
   "metadata": {
    "ExecuteTime": {
     "end_time": "2017-06-15T16:07:04.749895Z",
     "start_time": "2017-06-15T16:07:02.857775Z"
    }
   },
   "outputs": [
    {
     "name": "stdout",
     "output_type": "stream",
     "text": [
      "3 loops, best of 3: 197 ms per loop\n"
     ]
    }
   ],
   "source": [
    "%timeit -n3 -r3 summer1(ar)"
   ]
  },
  {
   "cell_type": "code",
   "execution_count": 26,
   "metadata": {
    "ExecuteTime": {
     "end_time": "2017-06-15T16:18:16.004983Z",
     "start_time": "2017-06-15T16:18:16.001912Z"
    }
   },
   "outputs": [],
   "source": [
    "%%cython\n",
    "def summer2(double[:] mv):\n",
    "    \"\"\"Sums its argument's contents.\"\"\"\n",
    "    cdef:\n",
    "        double ss=0.0\n",
    "        int i, N\n",
    "    N = mv.shape[0]\n",
    "    for i in range(N):\n",
    "        ss += mv[i]\n",
    "    return ss"
   ]
  },
  {
   "cell_type": "code",
   "execution_count": 29,
   "metadata": {
    "ExecuteTime": {
     "end_time": "2017-06-15T16:18:24.740031Z",
     "start_time": "2017-06-15T16:18:24.723804Z"
    }
   },
   "outputs": [
    {
     "name": "stdout",
     "output_type": "stream",
     "text": [
      "3 loops, best of 3: 1.04 ms per loop\n"
     ]
    }
   ],
   "source": [
    "%timeit -n3 -r3 summer2(arr)"
   ]
  },
  {
   "cell_type": "code",
   "execution_count": 28,
   "metadata": {
    "ExecuteTime": {
     "end_time": "2017-06-15T16:18:21.364160Z",
     "start_time": "2017-06-15T16:18:21.351004Z"
    }
   },
   "outputs": [
    {
     "name": "stdout",
     "output_type": "stream",
     "text": [
      "3 loops, best of 3: 1.02 ms per loop\n"
     ]
    }
   ],
   "source": [
    "%timeit -n3 -r3 summer2(ar)"
   ]
  },
  {
   "cell_type": "code",
   "execution_count": 73,
   "metadata": {
    "ExecuteTime": {
     "end_time": "2017-06-15T16:24:51.644891Z",
     "start_time": "2017-06-15T16:24:51.642003Z"
    }
   },
   "outputs": [],
   "source": [
    "%%cython\n",
    "from cython cimport wraparound, boundscheck\n",
    "\n",
    "@boundscheck(False)\n",
    "@wraparound(False)\n",
    "cpdef double summer3(double[:] mv):\n",
    "    \"\"\"Sums its argument's contents.\"\"\"\n",
    "    cdef:\n",
    "        double ss=0.0\n",
    "        int i, N\n",
    "    N = mv.shape[0]\n",
    "    for i in range(N):\n",
    "        ss += mv[i]\n",
    "    return ss"
   ]
  },
  {
   "cell_type": "code",
   "execution_count": 74,
   "metadata": {
    "ExecuteTime": {
     "end_time": "2017-06-15T16:24:54.598736Z",
     "start_time": "2017-06-15T16:24:54.585263Z"
    }
   },
   "outputs": [
    {
     "name": "stdout",
     "output_type": "stream",
     "text": [
      "3 loops, best of 3: 1.05 ms per loop\n"
     ]
    }
   ],
   "source": [
    "%timeit -n3 -r3 summer3(arr)"
   ]
  },
  {
   "cell_type": "code",
   "execution_count": 75,
   "metadata": {
    "ExecuteTime": {
     "end_time": "2017-06-15T16:24:58.367101Z",
     "start_time": "2017-06-15T16:24:58.355077Z"
    }
   },
   "outputs": [
    {
     "name": "stdout",
     "output_type": "stream",
     "text": [
      "3 loops, best of 3: 726 µs per loop\n"
     ]
    }
   ],
   "source": [
    "%timeit -n3 -r3 arr.sum()"
   ]
  }
 ],
 "metadata": {
  "kernelspec": {
   "display_name": "Python [conda root]",
   "language": "python",
   "name": "conda-root-py"
  },
  "language_info": {
   "codemirror_mode": {
    "name": "ipython",
    "version": 3
   },
   "file_extension": ".py",
   "mimetype": "text/x-python",
   "name": "python",
   "nbconvert_exporter": "python",
   "pygments_lexer": "ipython3",
   "version": "3.5.3"
  },
  "latex_envs": {
   "LaTeX_envs_menu_present": true,
   "autocomplete": true,
   "bibliofile": "biblio.bib",
   "cite_by": "apalike",
   "current_citInitial": 1,
   "eqLabelWithNumbers": true,
   "eqNumInitial": 1,
   "hotkeys": {
    "equation": "Ctrl-E",
    "itemize": "Ctrl-I"
   },
   "labels_anchors": false,
   "latex_user_defs": false,
   "report_style_numbering": false,
   "user_envs_cfg": false
  },
  "toc": {
   "colors": {
    "hover_highlight": "#DAA520",
    "navigate_num": "#000000",
    "navigate_text": "#333333",
    "running_highlight": "#FF0000",
    "selected_highlight": "#FFD700",
    "sidebar_border": "#EEEEEE",
    "wrapper_background": "#FFFFFF"
   },
   "moveMenuLeft": true,
   "nav_menu": {
    "height": "12px",
    "width": "252px"
   },
   "navigate_menu": true,
   "number_sections": true,
   "sideBar": true,
   "threshold": 4,
   "toc_cell": false,
   "toc_section_display": "block",
   "toc_window_display": false,
   "widenNotebook": false
  }
 },
 "nbformat": 4,
 "nbformat_minor": 2
}
