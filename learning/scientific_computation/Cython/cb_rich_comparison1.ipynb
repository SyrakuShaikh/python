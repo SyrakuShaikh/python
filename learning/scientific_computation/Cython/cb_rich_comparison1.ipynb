{
 "cells": [
  {
   "cell_type": "code",
   "execution_count": 1,
   "metadata": {
    "ExecuteTime": {
     "end_time": "2017-06-14T13:16:14.586413Z",
     "start_time": "2017-06-14T13:16:14.230926Z"
    },
    "collapsed": true
   },
   "outputs": [],
   "source": [
    "%load_ext Cython"
   ]
  },
  {
   "cell_type": "code",
   "execution_count": 2,
   "metadata": {
    "ExecuteTime": {
     "end_time": "2017-06-14T14:02:59.237458Z",
     "start_time": "2017-06-14T14:02:58.781488Z"
    },
    "code_folding": [],
    "collapsed": true
   },
   "outputs": [],
   "source": [
    "%%cython\n",
    "from cpython.object cimport Py_LT, Py_LE, Py_EQ, Py_NE, Py_GT, Py_GE\n",
    "\n",
    "cdef class R:\n",
    "    \"\"\"Extension type that supports rich comparisons.\"\"\"\n",
    "    cdef double data\n",
    "    def __init__(self, d):\n",
    "        self.data = d\n",
    "    def __richcmp__(x, y, int op):\n",
    "        \"\"\"a > b is equivalent to R.__richcmp__(a, b, Py_GT).\"\"\"\n",
    "        cdef:\n",
    "            R r\n",
    "            double data\n",
    "        # Make r always refer to the R instance.\n",
    "        # using type casting 'cdef R r = y'\n",
    "        r, y = (x, y) if isinstance(x, R) else (y, x)\n",
    "        \n",
    "        data = r.data\n",
    "        if op == Py_LT:\n",
    "            return data < y\n",
    "        elif op == Py_LE:\n",
    "            return data <= y\n",
    "        elif op == Py_EQ:\n",
    "            return data == y\n",
    "        elif op == Py_NE:\n",
    "            return data != y\n",
    "        elif op == Py_GT:\n",
    "            return data > y\n",
    "        elif op == Py_GE:\n",
    "            return data >= y\n",
    "        else:\n",
    "            assert False"
   ]
  },
  {
   "cell_type": "code",
   "execution_count": 3,
   "metadata": {
    "ExecuteTime": {
     "end_time": "2017-06-14T14:03:15.054831Z",
     "start_time": "2017-06-14T14:03:15.051360Z"
    },
    "collapsed": true
   },
   "outputs": [],
   "source": [
    "r = R(10)"
   ]
  },
  {
   "cell_type": "code",
   "execution_count": 4,
   "metadata": {
    "ExecuteTime": {
     "end_time": "2017-06-14T14:03:31.330944Z",
     "start_time": "2017-06-14T14:03:31.320810Z"
    }
   },
   "outputs": [
    {
     "data": {
      "text/plain": [
       "True"
      ]
     },
     "execution_count": 4,
     "metadata": {},
     "output_type": "execute_result"
    }
   ],
   "source": [
    "r < 20 and 20 > r"
   ]
  },
  {
   "cell_type": "code",
   "execution_count": 5,
   "metadata": {
    "ExecuteTime": {
     "end_time": "2017-06-14T14:03:54.970861Z",
     "start_time": "2017-06-14T14:03:54.967195Z"
    }
   },
   "outputs": [
    {
     "data": {
      "text/plain": [
       "False"
      ]
     },
     "execution_count": 5,
     "metadata": {},
     "output_type": "execute_result"
    }
   ],
   "source": [
    "r > 20 or 20 < r"
   ]
  },
  {
   "cell_type": "code",
   "execution_count": 6,
   "metadata": {
    "ExecuteTime": {
     "end_time": "2017-06-14T14:04:06.129193Z",
     "start_time": "2017-06-14T14:04:06.122396Z"
    }
   },
   "outputs": [
    {
     "data": {
      "text/plain": [
       "True"
      ]
     },
     "execution_count": 6,
     "metadata": {},
     "output_type": "execute_result"
    }
   ],
   "source": [
    "0 <= r <= 100"
   ]
  },
  {
   "cell_type": "code",
   "execution_count": 7,
   "metadata": {
    "ExecuteTime": {
     "end_time": "2017-06-14T14:04:13.489620Z",
     "start_time": "2017-06-14T14:04:13.486103Z"
    }
   },
   "outputs": [
    {
     "data": {
      "text/plain": [
       "True"
      ]
     },
     "execution_count": 7,
     "metadata": {},
     "output_type": "execute_result"
    }
   ],
   "source": [
    "r == 10"
   ]
  },
  {
   "cell_type": "code",
   "execution_count": 8,
   "metadata": {
    "ExecuteTime": {
     "end_time": "2017-06-14T14:04:20.137945Z",
     "start_time": "2017-06-14T14:04:20.134715Z"
    }
   },
   "outputs": [
    {
     "data": {
      "text/plain": [
       "False"
      ]
     },
     "execution_count": 8,
     "metadata": {},
     "output_type": "execute_result"
    }
   ],
   "source": [
    "r == 20"
   ]
  },
  {
   "cell_type": "code",
   "execution_count": 9,
   "metadata": {
    "ExecuteTime": {
     "end_time": "2017-06-14T14:04:27.537604Z",
     "start_time": "2017-06-14T14:04:27.533049Z"
    }
   },
   "outputs": [
    {
     "data": {
      "text/plain": [
       "False"
      ]
     },
     "execution_count": 9,
     "metadata": {},
     "output_type": "execute_result"
    }
   ],
   "source": [
    "20 == r"
   ]
  }
 ],
 "metadata": {
  "kernelspec": {
   "display_name": "Python [conda root]",
   "language": "python",
   "name": "conda-root-py"
  },
  "language_info": {
   "codemirror_mode": {
    "name": "ipython",
    "version": 3
   },
   "file_extension": ".py",
   "mimetype": "text/x-python",
   "name": "python",
   "nbconvert_exporter": "python",
   "pygments_lexer": "ipython3",
   "version": "3.5.3"
  },
  "latex_envs": {
   "LaTeX_envs_menu_present": true,
   "autocomplete": true,
   "bibliofile": "biblio.bib",
   "cite_by": "apalike",
   "current_citInitial": 1,
   "eqLabelWithNumbers": true,
   "eqNumInitial": 1,
   "hotkeys": {
    "equation": "Ctrl-E",
    "itemize": "Ctrl-I"
   },
   "labels_anchors": false,
   "latex_user_defs": false,
   "report_style_numbering": false,
   "user_envs_cfg": false
  },
  "toc": {
   "colors": {
    "hover_highlight": "#DAA520",
    "navigate_num": "#000000",
    "navigate_text": "#333333",
    "running_highlight": "#FF0000",
    "selected_highlight": "#FFD700",
    "sidebar_border": "#EEEEEE",
    "wrapper_background": "#FFFFFF"
   },
   "moveMenuLeft": true,
   "nav_menu": {
    "height": "12px",
    "width": "252px"
   },
   "navigate_menu": true,
   "number_sections": true,
   "sideBar": true,
   "threshold": 4,
   "toc_cell": false,
   "toc_section_display": "block",
   "toc_window_display": false,
   "widenNotebook": false
  }
 },
 "nbformat": 4,
 "nbformat_minor": 2
}
