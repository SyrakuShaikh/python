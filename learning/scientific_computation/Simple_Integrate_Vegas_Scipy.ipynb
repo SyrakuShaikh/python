{
 "cells": [
  {
   "cell_type": "code",
   "execution_count": 1,
   "metadata": {
    "ExecuteTime": {
     "end_time": "2017-06-26T07:29:31.275976Z",
     "start_time": "2017-06-26T15:29:30.884353+08:00"
    },
    "collapsed": true
   },
   "outputs": [],
   "source": [
    "%load_ext Cython"
   ]
  },
  {
   "cell_type": "code",
   "execution_count": 12,
   "metadata": {
    "ExecuteTime": {
     "end_time": "2017-06-26T07:57:45.617444Z",
     "start_time": "2017-06-26T15:57:45.609233+08:00"
    },
    "collapsed": true
   },
   "outputs": [],
   "source": [
    "import vegas\n",
    "import math\n",
    "from functools import partial\n",
    "\n",
    "def f(x, ct=0.5):\n",
    "    dx2 = 0.0\n",
    "    for d in range(4):\n",
    "        dx2 += (x[d] - ct) ** 2\n",
    "    return math.exp(- dx2 * 100.) * 1000.\n",
    "\n",
    "def main():\n",
    "    integ = vegas.Integrator([[-1, 1], [0, 1], [0, 1], [0,1]])\n",
    "    intg = partial(f, ct=0.6)\n",
    "\n",
    "    integ(intg, nitn=10, neval=2000)\n",
    "    result = integ(intg, nitn=10, neval=2000)\n",
    "    # print(result.summary())"
   ]
  },
  {
   "cell_type": "code",
   "execution_count": 13,
   "metadata": {
    "ExecuteTime": {
     "end_time": "2017-06-26T07:57:50.414241Z",
     "start_time": "2017-06-26T15:57:49.482068+08:00"
    }
   },
   "outputs": [
    {
     "name": "stdout",
     "output_type": "stream",
     "text": [
      "3 loops, best of 3: 95.5 ms per loop\n"
     ]
    }
   ],
   "source": [
    "%timeit -n3 -r3 main()"
   ]
  },
  {
   "cell_type": "code",
   "execution_count": null,
   "metadata": {
    "ExecuteTime": {
     "start_time": "2017-06-26T08:14:11.992Z"
    },
    "collapsed": true
   },
   "outputs": [],
   "source": [
    "from scipy import integrate\n",
    "\n",
    "def ff(x0, x1, x2, x3, ct=0.5):\n",
    "    xx = [x0, x1, x2, x3]\n",
    "    dx2 = 0.0\n",
    "    for x in xx:\n",
    "        dx2 += (x - ct) ** 2\n",
    "    return math.exp(- dx2 * 100.) * 1000.\n",
    "\n",
    "integrate.nquad(ff, [[-1, 1],[0, 1], [0, 1], [0, 1]], full_output=True)"
   ]
  },
  {
   "cell_type": "markdown",
   "metadata": {
    "collapsed": true
   },
   "source": [
    "Scipy.integrate is extremely slow and memory-cost in this example. Maybe it's because I don't know how to use this method correctly."
   ]
  }
 ],
 "metadata": {
  "anaconda-cloud": {},
  "kernelspec": {
   "display_name": "Python [conda root]",
   "language": "python",
   "name": "conda-root-py"
  },
  "language_info": {
   "codemirror_mode": {
    "name": "ipython",
    "version": 3
   },
   "file_extension": ".py",
   "mimetype": "text/x-python",
   "name": "python",
   "nbconvert_exporter": "python",
   "pygments_lexer": "ipython3",
   "version": "3.5.3"
  },
  "latex_envs": {
   "LaTeX_envs_menu_present": true,
   "autocomplete": true,
   "bibliofile": "biblio.bib",
   "cite_by": "apalike",
   "current_citInitial": 1,
   "eqLabelWithNumbers": true,
   "eqNumInitial": 1,
   "hotkeys": {
    "equation": "Ctrl-E",
    "itemize": "Ctrl-I"
   },
   "labels_anchors": false,
   "latex_user_defs": false,
   "report_style_numbering": false,
   "user_envs_cfg": false
  },
  "toc": {
   "colors": {
    "hover_highlight": "#DAA520",
    "navigate_num": "#000000",
    "navigate_text": "#333333",
    "running_highlight": "#FF0000",
    "selected_highlight": "#FFD700",
    "sidebar_border": "#EEEEEE",
    "wrapper_background": "#FFFFFF"
   },
   "moveMenuLeft": true,
   "nav_menu": {
    "height": "4px",
    "width": "254px"
   },
   "navigate_menu": true,
   "number_sections": true,
   "sideBar": true,
   "threshold": 4,
   "toc_cell": false,
   "toc_section_display": "block",
   "toc_window_display": false,
   "widenNotebook": false
  }
 },
 "nbformat": 4,
 "nbformat_minor": 2
}
